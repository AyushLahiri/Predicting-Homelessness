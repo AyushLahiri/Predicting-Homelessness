{
 "cells": [
  {
   "cell_type": "code",
   "execution_count": 1,
   "id": "ca93e53e",
   "metadata": {
    "scrolled": true
   },
   "outputs": [],
   "source": [
    "## load packages \n",
    "import pandas as pd\n",
    "import numpy as np\n",
    "import optuna\n",
    "import matplotlib.pyplot as plt\n",
    "import copy\n",
    "import seaborn as sns\n",
    "\n",
    "from sklearn.experimental import enable_iterative_imputer\n",
    "from sklearn.impute import IterativeImputer\n",
    "from sklearn.preprocessing import LabelEncoder\n",
    "from sklearn.model_selection import train_test_split\n",
    "\n",
    "from imblearn.over_sampling import SMOTE, SMOTENC\n",
    "from sklearn.linear_model import LogisticRegression\n",
    "from xgboost import XGBClassifier\n",
    "from sklearn.ensemble import RandomForestClassifier\n",
    "from sklearn.model_selection import cross_val_score\n",
    "from sklearn.ensemble import StackingClassifier\n",
    "\n",
    "from sklearn.metrics import balanced_accuracy_score, recall_score,f1_score\n",
    "from sklearn.metrics import roc_curve, roc_auc_score\n",
    "## repeated printouts\n",
    "from IPython.core.interactiveshell import InteractiveShell\n",
    "InteractiveShell.ast_node_interactivity = \"all\"\n",
    "# pd.set_option('display.max_colwidth', None)"
   ]
  },
  {
   "cell_type": "markdown",
   "id": "2c744fd4",
   "metadata": {},
   "source": [
    "## Dataset"
   ]
  },
  {
   "cell_type": "code",
   "execution_count": 2,
   "id": "e0b299f3",
   "metadata": {
    "scrolled": true
   },
   "outputs": [
    {
     "data": {
      "text/html": [
       "<div>\n",
       "<style scoped>\n",
       "    .dataframe tbody tr th:only-of-type {\n",
       "        vertical-align: middle;\n",
       "    }\n",
       "\n",
       "    .dataframe tbody tr th {\n",
       "        vertical-align: top;\n",
       "    }\n",
       "\n",
       "    .dataframe thead th {\n",
       "        text-align: right;\n",
       "    }\n",
       "</style>\n",
       "<table border=\"1\" class=\"dataframe\">\n",
       "  <thead>\n",
       "    <tr style=\"text-align: right;\">\n",
       "      <th></th>\n",
       "      <th>DISYR</th>\n",
       "      <th>CASEID</th>\n",
       "      <th>STFIPS</th>\n",
       "      <th>CBSA2010</th>\n",
       "      <th>EDUC</th>\n",
       "      <th>MARSTAT</th>\n",
       "      <th>SERVICES</th>\n",
       "      <th>DETCRIM</th>\n",
       "      <th>LOS</th>\n",
       "      <th>PSOURCE</th>\n",
       "      <th>...</th>\n",
       "      <th>TRNQFLG</th>\n",
       "      <th>BARBFLG</th>\n",
       "      <th>SEDHPFLG</th>\n",
       "      <th>INHFLG</th>\n",
       "      <th>OTCFLG</th>\n",
       "      <th>OTHERFLG</th>\n",
       "      <th>DIVISION</th>\n",
       "      <th>REGION</th>\n",
       "      <th>IDU</th>\n",
       "      <th>ALCDRUG</th>\n",
       "    </tr>\n",
       "  </thead>\n",
       "  <tbody>\n",
       "    <tr>\n",
       "      <th>0</th>\n",
       "      <td>2020</td>\n",
       "      <td>1243074</td>\n",
       "      <td>2</td>\n",
       "      <td>-9</td>\n",
       "      <td>3</td>\n",
       "      <td>1</td>\n",
       "      <td>7</td>\n",
       "      <td>-9</td>\n",
       "      <td>35</td>\n",
       "      <td>1</td>\n",
       "      <td>...</td>\n",
       "      <td>0</td>\n",
       "      <td>0</td>\n",
       "      <td>0</td>\n",
       "      <td>0</td>\n",
       "      <td>0</td>\n",
       "      <td>0</td>\n",
       "      <td>9</td>\n",
       "      <td>4</td>\n",
       "      <td>0</td>\n",
       "      <td>3</td>\n",
       "    </tr>\n",
       "    <tr>\n",
       "      <th>1</th>\n",
       "      <td>2020</td>\n",
       "      <td>1168758</td>\n",
       "      <td>2</td>\n",
       "      <td>-9</td>\n",
       "      <td>3</td>\n",
       "      <td>2</td>\n",
       "      <td>7</td>\n",
       "      <td>-9</td>\n",
       "      <td>29</td>\n",
       "      <td>1</td>\n",
       "      <td>...</td>\n",
       "      <td>0</td>\n",
       "      <td>0</td>\n",
       "      <td>0</td>\n",
       "      <td>0</td>\n",
       "      <td>0</td>\n",
       "      <td>0</td>\n",
       "      <td>9</td>\n",
       "      <td>4</td>\n",
       "      <td>0</td>\n",
       "      <td>1</td>\n",
       "    </tr>\n",
       "    <tr>\n",
       "      <th>2</th>\n",
       "      <td>2020</td>\n",
       "      <td>1150846</td>\n",
       "      <td>2</td>\n",
       "      <td>-9</td>\n",
       "      <td>1</td>\n",
       "      <td>1</td>\n",
       "      <td>7</td>\n",
       "      <td>-9</td>\n",
       "      <td>36</td>\n",
       "      <td>1</td>\n",
       "      <td>...</td>\n",
       "      <td>0</td>\n",
       "      <td>0</td>\n",
       "      <td>0</td>\n",
       "      <td>0</td>\n",
       "      <td>0</td>\n",
       "      <td>0</td>\n",
       "      <td>9</td>\n",
       "      <td>4</td>\n",
       "      <td>0</td>\n",
       "      <td>3</td>\n",
       "    </tr>\n",
       "    <tr>\n",
       "      <th>3</th>\n",
       "      <td>2020</td>\n",
       "      <td>1121864</td>\n",
       "      <td>2</td>\n",
       "      <td>-9</td>\n",
       "      <td>3</td>\n",
       "      <td>2</td>\n",
       "      <td>7</td>\n",
       "      <td>-9</td>\n",
       "      <td>37</td>\n",
       "      <td>1</td>\n",
       "      <td>...</td>\n",
       "      <td>0</td>\n",
       "      <td>0</td>\n",
       "      <td>0</td>\n",
       "      <td>0</td>\n",
       "      <td>0</td>\n",
       "      <td>0</td>\n",
       "      <td>9</td>\n",
       "      <td>4</td>\n",
       "      <td>0</td>\n",
       "      <td>3</td>\n",
       "    </tr>\n",
       "    <tr>\n",
       "      <th>4</th>\n",
       "      <td>2020</td>\n",
       "      <td>1180820</td>\n",
       "      <td>2</td>\n",
       "      <td>-9</td>\n",
       "      <td>3</td>\n",
       "      <td>2</td>\n",
       "      <td>7</td>\n",
       "      <td>-9</td>\n",
       "      <td>36</td>\n",
       "      <td>1</td>\n",
       "      <td>...</td>\n",
       "      <td>0</td>\n",
       "      <td>0</td>\n",
       "      <td>0</td>\n",
       "      <td>0</td>\n",
       "      <td>0</td>\n",
       "      <td>0</td>\n",
       "      <td>9</td>\n",
       "      <td>4</td>\n",
       "      <td>0</td>\n",
       "      <td>3</td>\n",
       "    </tr>\n",
       "  </tbody>\n",
       "</table>\n",
       "<p>5 rows × 76 columns</p>\n",
       "</div>"
      ],
      "text/plain": [
       "   DISYR   CASEID  STFIPS  CBSA2010  EDUC  MARSTAT  SERVICES  DETCRIM  LOS  \\\n",
       "0   2020  1243074       2        -9     3        1         7       -9   35   \n",
       "1   2020  1168758       2        -9     3        2         7       -9   29   \n",
       "2   2020  1150846       2        -9     1        1         7       -9   36   \n",
       "3   2020  1121864       2        -9     3        2         7       -9   37   \n",
       "4   2020  1180820       2        -9     3        2         7       -9   36   \n",
       "\n",
       "   PSOURCE  ...  TRNQFLG  BARBFLG  SEDHPFLG  INHFLG  OTCFLG  OTHERFLG  \\\n",
       "0        1  ...        0        0         0       0       0         0   \n",
       "1        1  ...        0        0         0       0       0         0   \n",
       "2        1  ...        0        0         0       0       0         0   \n",
       "3        1  ...        0        0         0       0       0         0   \n",
       "4        1  ...        0        0         0       0       0         0   \n",
       "\n",
       "   DIVISION  REGION  IDU  ALCDRUG  \n",
       "0         9       4    0        3  \n",
       "1         9       4    0        1  \n",
       "2         9       4    0        3  \n",
       "3         9       4    0        3  \n",
       "4         9       4    0        3  \n",
       "\n",
       "[5 rows x 76 columns]"
      ]
     },
     "execution_count": 2,
     "metadata": {},
     "output_type": "execute_result"
    },
    {
     "data": {
      "text/plain": [
       "(1391393, 76)"
      ]
     },
     "execution_count": 2,
     "metadata": {},
     "output_type": "execute_result"
    }
   ],
   "source": [
    "df = pd.read_csv(r\"C:\\Users\\Lahiri\\tedsd_puf_2020.csv\")\n",
    "df.head(5)\n",
    "df.shape "
   ]
  },
  {
   "cell_type": "code",
   "execution_count": 3,
   "id": "629f1085",
   "metadata": {},
   "outputs": [],
   "source": [
    "#Creating codebook dictionary for ease of access later"
   ]
  },
  {
   "cell_type": "code",
   "execution_count": 4,
   "id": "61b18643",
   "metadata": {
    "scrolled": true
   },
   "outputs": [],
   "source": [
    "codebook = {'DISYR': 'Year of Discharge',\n",
    " 'CASEID': 'ID',\n",
    " 'STFIPS': 'STATE',\n",
    " 'EDUC' : 'EDUCATION LEVEL',\n",
    " 'MARSTAT' : 'Marital Status',\n",
    " 'SERVICES' : ' Type of treatment service/setting at admission',\n",
    " 'DETCRIM': 'Detailed criminal justice referral',\n",
    " 'LOS' : ' Length of stay in treatment' ,\n",
    " 'PSOURCE' : 'Referral source' ,\n",
    " 'NOPRIOR' : 'Previous substance use treatment episodes',\n",
    " 'ARRESTS' : ' Arrests in past 30 days prior to admission',\n",
    " 'EMPLOY' : ' Employment status at admission' ,\n",
    " 'METHUSE': 'Medication-assisted opioid therapy',\n",
    " 'PSYPROB': 'Co-occurring mental and substance use disorders' ,\n",
    " 'PREG' : 'Pregnant at admission' ,\n",
    " 'GENDER': 'GENDER',\n",
    " 'VET': 'Veteran status',\n",
    " 'LIVARAG': 'Living arrangements at admission' ,\n",
    " 'DAYWAIT': 'Days waiting to enter substance use treatment',\n",
    " 'SERVICES_D': 'Type of treatment service/setting at discharge' ,\n",
    " 'REASON' : 'Reason for discharge',\n",
    " 'EMPLOY_D': 'Employment status at discharge',\n",
    " 'LIVARAG_D' : 'Living arrangements at discharge',\n",
    " 'ARRESTS_D': 'Arrests in past 30 days prior to discharge',\n",
    " 'DSMCRIT': 'DSM diagnosis',\n",
    " 'AGE': 'AGE',\n",
    " 'RACE': 'RACE',\n",
    " 'ETHNIC': 'ETHNICITY',\n",
    " 'DETNLF': 'Detailed not in labor force category at admission',\n",
    " 'DETNLF_D': 'Detailed not in labor force category at discharge',\n",
    " 'PRIMINC': 'Source of income/support',\n",
    " 'SUB1': 'Substance use at admission (primary)',\n",
    " 'SUB2': 'Substance use at admission (secondary)',\n",
    " 'SUB3': 'Substance use at admission (tertiary)',\n",
    " 'SUB1_D': 'Substance use at discharge (primary)',\n",
    " 'SUB2_D': 'Substance use at discharge (secondary)',\n",
    " 'SUB3_D': 'Substance use at discharge (tertiary)',\n",
    " 'ROUTE1': 'Route of administration (primary)',\n",
    " 'ROUTE2': 'Route of administration (secondary)' ,\n",
    " 'ROUTE3': 'Route of administration (tertiary)',\n",
    " 'FREQ1': ' Frequency of use at admission (primary)',\n",
    " 'FREQ2': ' Frequency of use at admission (secondary)',\n",
    " 'FREQ3': ' Frequency of use at admission (tertiary)',\n",
    " 'FREQ1_D': ' Frequency of use at discharge (primary)',\n",
    " 'FREQ2_D': ' Frequency of use at discharge (secondary)',\n",
    " 'FREQ3_D': ' Frequency of use at discharge (tertiary)',\n",
    " 'FRSTUSE1': 'Age at first use (primary)',\n",
    " 'FRSTUSE2': 'Age at first use (secondary)',\n",
    " 'FRSTUSE3': 'Age at first use (tertiary)',\n",
    " 'HLTHINS': ' health insurance at admission. The insurance may or may not cover behavioral health treatment',\n",
    " 'PRIMPAY': 'Payment source, primary (expected or actual)',\n",
    " 'FREQ_ATND_SELF_HELP': 'Attendance at substance use self-help groups in past 30 days prior to admission',\n",
    " 'FREQ_ATND_SELF_HELP_D': 'Attendance at substance use self-help groups in past 30 days prior to discharge',\n",
    " 'ALCFLG': 'Alcohol reported at admission(alcohol was reported as the primary, secondary, or tertiary substance)' ,\n",
    " 'COKEFLG': 'Cocaine/crack reported at admission',\n",
    " 'MARFLG': 'Marijuana/hashish reported at admission',\n",
    " 'HERFLG': 'Heroin reported at admission',\n",
    " 'METHFLG': 'Non-rx methadone reported at admission',\n",
    " 'OPSYNFLG': 'Other opiates/synthetics reported at admission',\n",
    " 'PCPFLG': 'PCP reported at admission',\n",
    " 'HALLFLG': 'Hallucinogens reported at admission',\n",
    " 'MTHAMFLG': 'Methamphetamine/speed reported at admission',\n",
    " 'AMPHFLG': 'Other amphetamines reported at admission',\n",
    " 'STIMFLG': 'Other stimulants reported at admission',\n",
    " 'BENZFLG': 'Benzodiazepines reported at admission',\n",
    " 'TRNQFLG': 'Other tranquilizers reported at admission',\n",
    " 'BARBFLG': 'Barbiturates reported at admission',\n",
    " 'SEDHPFLG': 'Other sedatives/hypnotics reported at admission',\n",
    " 'INHFLG': 'Inhalants reported at admission',\n",
    " 'OTCFLG': 'Over-the-counter medication reported at admission',\n",
    " 'OTHERFLG': 'Other drug reported at admission',\n",
    " 'DIVISION': 'DIVISION',\n",
    " 'REGION': 'REGION',\n",
    " 'IDU': 'Current IV drug use reported at admission',\n",
    " 'ALCDRUG': 'Substance use type'}"
   ]
  },
  {
   "cell_type": "code",
   "execution_count": 5,
   "id": "620043b3",
   "metadata": {
    "scrolled": true
   },
   "outputs": [],
   "source": [
    "#Feature list \n",
    "\n",
    "cols = ['CASEID',\n",
    " 'LIVARAG',\n",
    " 'EDUC',\n",
    " 'MARSTAT',\n",
    " 'SERVICES' ,\n",
    " 'DETCRIM',\n",
    " 'NOPRIOR' ,\n",
    " 'ARRESTS' ,\n",
    " 'EMPLOY' ,\n",
    " 'PSYPROB',\n",
    " 'PREG',\n",
    " 'GENDER',\n",
    " 'VET',\n",
    " 'DSMCRIT',\n",
    " 'AGE',\n",
    " 'RACE',\n",
    " 'ETHNIC',\n",
    " 'PRIMINC',\n",
    " 'SUB1',\n",
    " 'SUB2',\n",
    " 'SUB3',\n",
    " 'ROUTE1',\n",
    " 'FREQ1',\n",
    " 'FRSTUSE1',\n",
    " 'FRSTUSE2',\n",
    " 'FRSTUSE3',\n",
    " 'FREQ_ATND_SELF_HELP',\n",
    " 'IDU',\n",
    " 'ALCDRUG',\n",
    " 'LIVARAG_D']\n",
    "\n",
    "#For later subsetting of training and testing columns \n",
    "cols2 = [i for i in cols]\n",
    "cols2.remove('CASEID')\n",
    "cols2.remove('LIVARAG_D')"
   ]
  },
  {
   "cell_type": "code",
   "execution_count": 6,
   "id": "ef4fe320",
   "metadata": {
    "scrolled": true
   },
   "outputs": [],
   "source": [
    "#Subsetting to final feature list \n",
    "df =df[cols]\n",
    "\n",
    "#Dropping all cases where target variable is missing\n",
    "df = df[df.LIVARAG_D != -9] "
   ]
  },
  {
   "cell_type": "markdown",
   "id": "2096f6dc",
   "metadata": {},
   "source": [
    "## Pre-Processing\n",
    "\n",
    "Grouping variables in order to reduce dimensionality, easier interpretability and retaining groups with significantly large frequencies"
   ]
  },
  {
   "cell_type": "code",
   "execution_count": 7,
   "id": "0bedc266",
   "metadata": {
    "scrolled": true
   },
   "outputs": [
    {
     "data": {
      "text/plain": [
       "0          3\n",
       "1          3\n",
       "2          3\n",
       "3          3\n",
       "4          3\n",
       "          ..\n",
       "1391388    3\n",
       "1391389    3\n",
       "1391390    3\n",
       "1391391    3\n",
       "1391392    3\n",
       "Name: n_sub, Length: 1083555, dtype: category\n",
       "Categories (1, int64): [3]"
      ]
     },
     "execution_count": 7,
     "metadata": {},
     "output_type": "execute_result"
    }
   ],
   "source": [
    "\n",
    "df['RACE'] = np.where(df['RACE'].isin([1,2]),1, df['RACE'])\n",
    "df['RACE'] = np.where(~df['RACE'].isin([1,4,5,6,-9]),0, df['RACE'])\n",
    "\n",
    "df['SUB1'] = np.where(df['SUB1'] == 11,10, df['SUB1'])\n",
    "\n",
    "for i in ['SUB1']:\n",
    "    df[i] = np.where(~df[i].isin([2,5,3,10,4,-9]),1,df[i])\n",
    "\n",
    "df = df.astype('int')\n",
    "df.replace(-9, np.nan, inplace=True)\n",
    "\n",
    "df['min_firstuse'] = df[['FRSTUSE1','FRSTUSE2','FRSTUSE3']].min(axis = 1, skipna = True)\n",
    "\n",
    "df['min_firstuse'] = np.where((df['min_firstuse']>= 2)&(df['min_firstuse']<= 3), 2, df['min_firstuse'])\n",
    "df['min_firstuse'] = np.where((df['min_firstuse']>= 4)&(df['min_firstuse']<= 6), 3, df['min_firstuse'])\n",
    "df['min_firstuse'] = np.where(df['min_firstuse'] == 7, 4, df['min_firstuse'])\n",
    "\n",
    "\n",
    "df['DETCRIM'] = np.where(df['DETCRIM'].isna(),0, df['DETCRIM'])\n",
    "df['DSMCRIT'] = np.where(df['DSMCRIT'].isin([1,3,4,9]),0, \n",
    "                         np.where(df['DSMCRIT'].isin([2,8,11]),1,\n",
    "                                  np.where(df['DSMCRIT'].isin([5,12]),2,\n",
    "                                           np.where(df['DSMCRIT'].isin([7,10]),3,\n",
    "                                                    np.where(df['DSMCRIT'].isin([6,13]),4,df['DSMCRIT'])))))\n",
    "\n",
    "df['AGE']= np.where(df['AGE'] == 1,1,\n",
    "                        np.where(df['AGE'].isin([3,4]),3,\n",
    "                                 np.where(df['AGE'].isin([5,6]),4,\n",
    "                                          np.where(df['AGE'].isin([7,8]),5,\n",
    "                                                   np.where(df['AGE'].isin([9,10,11,12]),6,df['AGE'])))))\n",
    "\n",
    "df['ETHNIC']= np.where(df['ETHNIC'].isin([3,5]),3,df['ETHNIC'])\n",
    "\n",
    "                            \n",
    "df[['SUB1','SUB2','SUB3']].copy().replace(np.nan,0, inplace=True)\n",
    "df['n_sub1'] = np.where(df['SUB1'].notna(),1,0)\n",
    "df['n_sub2'] = np.where(df['SUB2'].notna(),1,0)\n",
    "df['n_sub3'] = np.where(df['SUB3'].notna(),1,0)\n",
    "df['n_sub'] = df[['n_sub1','n_sub2','n_sub3']].count(axis=1)\n",
    "df['n_sub'].astype('category')\n",
    "\n",
    "df['LIVARAG'] = np.where(df['LIVARAG'].isin([2,3]),0,df['LIVARAG'])\n",
    "df['LIVARAG_D'] = np.where(df['LIVARAG_D'].isin([2,3]),0,1)\n",
    "\n",
    "df.drop(columns = ['n_sub1','n_sub2','n_sub3','SUB2','SUB3','FRSTUSE1','FRSTUSE2','FRSTUSE3'], inplace = True)\n",
    "for i in ['SUB2','SUB3','FRSTUSE1','FRSTUSE2','FRSTUSE3']:\n",
    "    cols2.remove(i)"
   ]
  },
  {
   "cell_type": "code",
   "execution_count": 8,
   "id": "99a956d1",
   "metadata": {
    "scrolled": true
   },
   "outputs": [
    {
     "name": "stdout",
     "output_type": "stream",
     "text": [
      "Proportion who ended up homeless 0.045\n",
      "Proportion who ended up not homeless 0.016\n",
      "Proportion who were never homeless 0.809\n",
      "Proportion who were always homeless 0.117\n"
     ]
    }
   ],
   "source": [
    "print('Proportion who ended up homeless %.3f' %(df[(df.LIVARAG == 1)&(df.LIVARAG_D == 0)].shape[0]/df.shape[0]))\n",
    "print('Proportion who ended up not homeless %.3f' %(df[(df.LIVARAG == 0)&(df.LIVARAG_D == 1)].shape[0]/df.shape[0]))\n",
    "print('Proportion who were never homeless %.3f' %(df[(df.LIVARAG == 0)&(df.LIVARAG_D == 0)].shape[0]/df.shape[0]))\n",
    "print('Proportion who were always homeless %.3f' %(df[(df.LIVARAG == 1)&(df.LIVARAG_D == 1)].shape[0]/df.shape[0]))"
   ]
  },
  {
   "cell_type": "markdown",
   "id": "1853e538",
   "metadata": {},
   "source": [
    "## Imputation, Sampling and Variable Encoding"
   ]
  },
  {
   "cell_type": "code",
   "execution_count": 9,
   "id": "ec309160",
   "metadata": {
    "scrolled": true
   },
   "outputs": [],
   "source": [
    "from sklearn.impute import SimpleImputer\n",
    "\n",
    "imp = SimpleImputer(strategy='most_frequent')\n",
    "df2 = imp.fit_transform(df)\n",
    "df2 = pd.DataFrame(df2, columns = df.columns.tolist())"
   ]
  },
  {
   "cell_type": "code",
   "execution_count": 10,
   "id": "3c39e14f",
   "metadata": {
    "scrolled": true
   },
   "outputs": [],
   "source": [
    "#Creating our feature and target matrices\n",
    "X = df2.drop(columns = ['LIVARAG_D','CASEID'])\n",
    "y = df2['LIVARAG_D']\n",
    "\n",
    "#Label Encoding \n",
    "encoder = LabelEncoder()\n",
    "X[cols2] = X[cols2].apply(encoder.fit_transform)\n",
    "y = encoder.fit_transform(y)\n",
    "\n",
    "#Creating dummies for categorical variables\n",
    "X_dum = pd.get_dummies(X, columns= cols2, drop_first = True)\n",
    "\n",
    "#Creating copy dataframe, from which we undertake sampling \n",
    "X_sub = copy.deepcopy(X_dum)\n",
    "X_sub['LIVARAG_D'] = y\n",
    "\n",
    "a_1 = X_sub[(X_sub.LIVARAG_1 == 1)&(X_sub.LIVARAG_D == 0)]\n",
    "a_3 = X_sub[(X_sub.LIVARAG_1 == 0)&(X_sub.LIVARAG_D == 0)].sample(250000, replace = False, random_state = 1)\n",
    "a_2 = X_sub[(X_sub.LIVARAG_D == 1)]\n",
    "sampled_df = pd.concat([a_1,a_2,a_3])\n",
    "\n",
    "X = sampled_df.drop(columns = ['LIVARAG_D'])\n",
    "y = sampled_df['LIVARAG_D']"
   ]
  },
  {
   "cell_type": "markdown",
   "id": "362e0fa8",
   "metadata": {},
   "source": [
    "## Cross Validation and Hyper-parameter tuning with Optuna\n",
    "\n",
    "Due to the nature of Optuna's algorithm, the hyper parameters for which we recieve the best cross validation result, gives us both the: The hyper parameters and cross-validation results\n",
    "\n",
    "**The command to begin tuning has been commented out, since it is computationally very intensive and can take almost 4 hours to finish. Code can be uncommented to be run**"
   ]
  },
  {
   "cell_type": "code",
   "execution_count": 11,
   "id": "89985217",
   "metadata": {
    "scrolled": true
   },
   "outputs": [],
   "source": [
    "rf = RandomForestClassifier()"
   ]
  },
  {
   "cell_type": "code",
   "execution_count": 12,
   "id": "260dbdba",
   "metadata": {
    "scrolled": true
   },
   "outputs": [],
   "source": [
    "def objective(trial):\n",
    "    n_estimators = trial.suggest_int('n_estimators', 50,300)\n",
    "    max_depth = int(trial.suggest_int('max_depth', 10,30))\n",
    "    min_samples = int(trial.suggest_int('min_samples_split',20,10000))\n",
    "    min_samples_leaf = int(trial.suggest_int('min_samples_leaf',100,1000))\n",
    "    clf = RandomForestClassifier(n_estimators=n_estimators, max_depth=max_depth, min_samples_split = min_samples,min_samples_leaf= min_samples_leaf, n_jobs = -1 )\n",
    "    return cross_val_score(clf, X_train, y_train, n_jobs=-1, cv=5, scoring = 'balanced_accuracy').mean()"
   ]
  },
  {
   "cell_type": "code",
   "execution_count": 13,
   "id": "710a6461",
   "metadata": {
    "scrolled": false
   },
   "outputs": [],
   "source": [
    "# study = optuna.create_study(direction='maximize')\n",
    "# study.optimize(objective, n_trials=68)"
   ]
  },
  {
   "cell_type": "code",
   "execution_count": 14,
   "id": "6abfd91c",
   "metadata": {
    "scrolled": true
   },
   "outputs": [],
   "source": [
    "def objective(trial):\n",
    "    penalty = trial.suggest_categorical('penalty',['l2', 'l1', 'elasticnet'])\n",
    "    wgt = trial.suggest_categorical('class_weight',['balanced', 'none'])\n",
    "    l1_ratio= trial.suggest_float('l1_ratio', 0.1, 1.0)\n",
    "    clf = LogisticRegression(penalty=penalty, class_weight = wgt, solver = 'saga', l1_ratio =l1_ratio, n_jobs = -1 )\n",
    "    return cross_val_score(clf, X, y, n_jobs=-1, cv=5, scoring = 'balanced_accuracy').mean()"
   ]
  },
  {
   "cell_type": "code",
   "execution_count": 15,
   "id": "94c1a886",
   "metadata": {
    "scrolled": true
   },
   "outputs": [],
   "source": [
    "# log_study = optuna.create_study(direction='maximize')\n",
    "# log_study.optimize( objective, n_trials=15, n_jobs = -1)"
   ]
  },
  {
   "cell_type": "code",
   "execution_count": 16,
   "id": "f34e7b59",
   "metadata": {
    "scrolled": true
   },
   "outputs": [],
   "source": [
    "def objective(trial):\n",
    "    n_estimators = trial.suggest_int('n_estimators', 50, 100)\n",
    "    max_depth = trial.suggest_int('max_depth', 3, 10)\n",
    "    learning_rate = trial.suggest_float('learning_rate', 0.01, 0.7)\n",
    "    gamma = trial.suggest_float('gamma', 0.0001, 1.0)\n",
    "    reg_alpha = trial.suggest_float('reg_alpha', 0.0, 1.0)\n",
    "    xgb_model = XGBClassifier(n_estimators=n_estimators, max_depth=max_depth, learning_rate=learning_rate, gamma=gamma,reg_alpha = reg_alpha, n_jobs = -1)\n",
    "    return cross_val_score(xgb_model, X, y, n_jobs=-1, cv=5, scoring='balanced_accuracy').mean()"
   ]
  },
  {
   "cell_type": "code",
   "execution_count": 17,
   "id": "f50f2e1b",
   "metadata": {
    "scrolled": false
   },
   "outputs": [],
   "source": [
    "# xg_study = optuna.create_study(direction='maximize')\n",
    "# xg_study.optimize(objective, n_trials=60)"
   ]
  },
  {
   "cell_type": "markdown",
   "id": "6c870aae",
   "metadata": {},
   "source": [
    "# Training "
   ]
  },
  {
   "cell_type": "code",
   "execution_count": 18,
   "id": "fc157921",
   "metadata": {
    "scrolled": true
   },
   "outputs": [],
   "source": [
    "#Creating list of indices for variables which need to oversmapled using SMOTE\n",
    "col_list = [0]\n",
    "for i in range(2,79,1):\n",
    "    col_list.append(i)"
   ]
  },
  {
   "cell_type": "markdown",
   "id": "8c5f072b",
   "metadata": {},
   "source": [
    "### SMOTE-NC based oversampling"
   ]
  },
  {
   "cell_type": "code",
   "execution_count": 19,
   "id": "cab3e969",
   "metadata": {
    "scrolled": true
   },
   "outputs": [],
   "source": [
    "X_train,X_test,y_train,y_test = train_test_split(X.iloc[:,1:],y, stratify = y, test_size = 0.3, random_state = 1 )\n",
    "\n",
    "sampling_strategy = {1: len(y_train[y_train == 0]), 0: len(y_train[y_train == 0])}\n",
    "\n",
    "# Create SMOTE object with dictionary-based sampling strategy\n",
    "smote = SMOTENC(sampling_strategy=sampling_strategy,categorical_features = col_list, random_state = 1)\n",
    "\n",
    "# Apply SMOTE to the training data\n",
    "X_train, y_train = smote.fit_resample(X_train, y_train)"
   ]
  },
  {
   "cell_type": "code",
   "execution_count": 20,
   "id": "fe5abae8",
   "metadata": {
    "scrolled": true
   },
   "outputs": [],
   "source": [
    "# We keep copies of the dataset to be later used in understanding model errors \n",
    "X_test_checker = copy.deepcopy(X_test)\n",
    "y_test_checker = copy.deepcopy(y_test)\n",
    "\n",
    "#We also drop living status at admission, for a more robust model. This was not dropped before \n",
    "#since we wanted to retain as much information as possible for better sampling by SMOTE-NC.\n",
    "X_train = X_train.drop(columns = ['LIVARAG_1'])\n",
    "X_test = X_test.drop(columns = ['LIVARAG_1'])"
   ]
  },
  {
   "cell_type": "markdown",
   "id": "c596a508",
   "metadata": {},
   "source": [
    "## Defining our models with the optimum hyper-parameters"
   ]
  },
  {
   "cell_type": "code",
   "execution_count": 21,
   "id": "ae964bcf",
   "metadata": {
    "scrolled": true
   },
   "outputs": [],
   "source": [
    "rf = RandomForestClassifier(n_estimators = 300,n_jobs = -1, max_depth = 19,min_samples_split = 431,\n",
    "                            min_samples_leaf = 101  )\n",
    "\n",
    "lr = LogisticRegression(n_jobs = -1, penalty = 'l2', class_weight = 'balanced')\n",
    "\n",
    "xgb = XGBClassifier(n_jobs = -1, n_estimators = 300, max_depth = 3, learning_rate = 0.014365840866232403,\n",
    "                    gamma = 0.9908107726363928, reg_alpha = 0.14493278261282957)\n",
    "estimators = [\n",
    "     ('rf', rf),\n",
    "     ('xgb', xgb),\n",
    "    ('lr', lr)\n",
    "]\n",
    "sclf = StackingClassifier(estimators=estimators,\n",
    "                            final_estimator=rf, n_jobs = -1, cv = 5)"
   ]
  },
  {
   "cell_type": "code",
   "execution_count": 22,
   "id": "951acf04",
   "metadata": {
    "scrolled": true
   },
   "outputs": [
    {
     "name": "stdout",
     "output_type": "stream",
     "text": [
      "(418726, 78)\n",
      "(418726,)\n"
     ]
    }
   ],
   "source": [
    "print(X_train.shape)\n",
    "print(y_train.shape)"
   ]
  },
  {
   "cell_type": "markdown",
   "id": "bd140f00",
   "metadata": {},
   "source": [
    "## Stratified cross validation \n",
    "\n",
    "We undertake 10 fold stratified cross validation on our optimal parameter models to understand their performance over the entire dataset."
   ]
  },
  {
   "cell_type": "code",
   "execution_count": 23,
   "id": "44590b6f",
   "metadata": {
    "scrolled": true
   },
   "outputs": [],
   "source": [
    "crossval_df_1 = copy.deepcopy(X_train)\n",
    "crossval_df_1['LIVARAG_D'] = y_train\n",
    "\n",
    "crossval_df_2 = copy.deepcopy(X_test)\n",
    "crossval_df_2['LIVARAG_D'] = y_test\n",
    "\n",
    "crossval_df = pd.concat([crossval_df_1,crossval_df_2])\n",
    "crossval_df = crossval_df.reset_index().drop(columns = 'index')\n",
    "target = crossval_df['LIVARAG_D']\n",
    "features = crossval_df.drop(columns = ['LIVARAG_D'])"
   ]
  },
  {
   "cell_type": "code",
   "execution_count": 24,
   "id": "34780da4",
   "metadata": {},
   "outputs": [],
   "source": [
    "from sklearn.model_selection import StratifiedKFold\n",
    "\n",
    "skf = StratifiedKFold(n_splits=10, shuffle=True, random_state=1)"
   ]
  },
  {
   "cell_type": "code",
   "execution_count": 25,
   "id": "9abc66c5",
   "metadata": {
    "scrolled": true
   },
   "outputs": [
    {
     "data": {
      "text/plain": [
       "RandomForestClassifier(max_depth=19, min_samples_leaf=101,\n",
       "                       min_samples_split=431, n_estimators=300, n_jobs=-1)"
      ]
     },
     "execution_count": 25,
     "metadata": {},
     "output_type": "execute_result"
    },
    {
     "data": {
      "text/plain": [
       "RandomForestClassifier(max_depth=19, min_samples_leaf=101,\n",
       "                       min_samples_split=431, n_estimators=300, n_jobs=-1)"
      ]
     },
     "execution_count": 25,
     "metadata": {},
     "output_type": "execute_result"
    },
    {
     "data": {
      "text/plain": [
       "RandomForestClassifier(max_depth=19, min_samples_leaf=101,\n",
       "                       min_samples_split=431, n_estimators=300, n_jobs=-1)"
      ]
     },
     "execution_count": 25,
     "metadata": {},
     "output_type": "execute_result"
    },
    {
     "data": {
      "text/plain": [
       "RandomForestClassifier(max_depth=19, min_samples_leaf=101,\n",
       "                       min_samples_split=431, n_estimators=300, n_jobs=-1)"
      ]
     },
     "execution_count": 25,
     "metadata": {},
     "output_type": "execute_result"
    },
    {
     "data": {
      "text/plain": [
       "RandomForestClassifier(max_depth=19, min_samples_leaf=101,\n",
       "                       min_samples_split=431, n_estimators=300, n_jobs=-1)"
      ]
     },
     "execution_count": 25,
     "metadata": {},
     "output_type": "execute_result"
    },
    {
     "data": {
      "text/plain": [
       "RandomForestClassifier(max_depth=19, min_samples_leaf=101,\n",
       "                       min_samples_split=431, n_estimators=300, n_jobs=-1)"
      ]
     },
     "execution_count": 25,
     "metadata": {},
     "output_type": "execute_result"
    },
    {
     "data": {
      "text/plain": [
       "RandomForestClassifier(max_depth=19, min_samples_leaf=101,\n",
       "                       min_samples_split=431, n_estimators=300, n_jobs=-1)"
      ]
     },
     "execution_count": 25,
     "metadata": {},
     "output_type": "execute_result"
    },
    {
     "data": {
      "text/plain": [
       "RandomForestClassifier(max_depth=19, min_samples_leaf=101,\n",
       "                       min_samples_split=431, n_estimators=300, n_jobs=-1)"
      ]
     },
     "execution_count": 25,
     "metadata": {},
     "output_type": "execute_result"
    },
    {
     "data": {
      "text/plain": [
       "RandomForestClassifier(max_depth=19, min_samples_leaf=101,\n",
       "                       min_samples_split=431, n_estimators=300, n_jobs=-1)"
      ]
     },
     "execution_count": 25,
     "metadata": {},
     "output_type": "execute_result"
    },
    {
     "data": {
      "text/plain": [
       "RandomForestClassifier(max_depth=19, min_samples_leaf=101,\n",
       "                       min_samples_split=431, n_estimators=300, n_jobs=-1)"
      ]
     },
     "execution_count": 25,
     "metadata": {},
     "output_type": "execute_result"
    }
   ],
   "source": [
    "\n",
    "rf_accu_stratified = [] #list to store each iterations results \n",
    "  \n",
    "for train_index, test_index in skf.split(features, target):\n",
    "    x_train_fold, x_test_fold = features.iloc[train_index,:], features.iloc[test_index,:]\n",
    "    y_train_fold, y_test_fold = target.iloc[train_index], target.iloc[test_index]\n",
    "    rf.fit(x_train_fold, y_train_fold)\n",
    "    rf_accu_stratified.append(rf.score(x_test_fold, y_test_fold))"
   ]
  },
  {
   "cell_type": "code",
   "execution_count": 26,
   "id": "4809cd90",
   "metadata": {
    "scrolled": true
   },
   "outputs": [
    {
     "name": "stdout",
     "output_type": "stream",
     "text": [
      "Random Forest Overall Accuracy: 69.81369723358696 %\n"
     ]
    }
   ],
   "source": [
    "print('Random Forest Overall Accuracy:',\n",
    "      np.mean(rf_accu_stratified)*100, '%')"
   ]
  },
  {
   "cell_type": "code",
   "execution_count": 27,
   "id": "6c33e728",
   "metadata": {
    "scrolled": true
   },
   "outputs": [
    {
     "data": {
      "text/plain": [
       "LogisticRegression(class_weight='balanced', n_jobs=-1)"
      ]
     },
     "execution_count": 27,
     "metadata": {},
     "output_type": "execute_result"
    },
    {
     "data": {
      "text/plain": [
       "LogisticRegression(class_weight='balanced', n_jobs=-1)"
      ]
     },
     "execution_count": 27,
     "metadata": {},
     "output_type": "execute_result"
    },
    {
     "data": {
      "text/plain": [
       "LogisticRegression(class_weight='balanced', n_jobs=-1)"
      ]
     },
     "execution_count": 27,
     "metadata": {},
     "output_type": "execute_result"
    },
    {
     "data": {
      "text/plain": [
       "LogisticRegression(class_weight='balanced', n_jobs=-1)"
      ]
     },
     "execution_count": 27,
     "metadata": {},
     "output_type": "execute_result"
    },
    {
     "data": {
      "text/plain": [
       "LogisticRegression(class_weight='balanced', n_jobs=-1)"
      ]
     },
     "execution_count": 27,
     "metadata": {},
     "output_type": "execute_result"
    },
    {
     "data": {
      "text/plain": [
       "LogisticRegression(class_weight='balanced', n_jobs=-1)"
      ]
     },
     "execution_count": 27,
     "metadata": {},
     "output_type": "execute_result"
    },
    {
     "data": {
      "text/plain": [
       "LogisticRegression(class_weight='balanced', n_jobs=-1)"
      ]
     },
     "execution_count": 27,
     "metadata": {},
     "output_type": "execute_result"
    },
    {
     "data": {
      "text/plain": [
       "LogisticRegression(class_weight='balanced', n_jobs=-1)"
      ]
     },
     "execution_count": 27,
     "metadata": {},
     "output_type": "execute_result"
    },
    {
     "data": {
      "text/plain": [
       "LogisticRegression(class_weight='balanced', n_jobs=-1)"
      ]
     },
     "execution_count": 27,
     "metadata": {},
     "output_type": "execute_result"
    },
    {
     "data": {
      "text/plain": [
       "LogisticRegression(class_weight='balanced', n_jobs=-1)"
      ]
     },
     "execution_count": 27,
     "metadata": {},
     "output_type": "execute_result"
    }
   ],
   "source": [
    "lr_accu_stratified = [] #list to store each iterations results \n",
    "  \n",
    "for train_index, test_index in skf.split(features, target):\n",
    "    x_train_fold, x_test_fold = features.iloc[train_index,:], features.iloc[test_index,:]\n",
    "    y_train_fold, y_test_fold = target.iloc[train_index], target.iloc[test_index]\n",
    "    lr.fit(x_train_fold, y_train_fold)\n",
    "    lr_accu_stratified.append(lr.score(x_test_fold, y_test_fold))\n",
    "    \n"
   ]
  },
  {
   "cell_type": "code",
   "execution_count": 28,
   "id": "8f385686",
   "metadata": {},
   "outputs": [
    {
     "name": "stdout",
     "output_type": "stream",
     "text": [
      "Logistic Regression Overall Accuracy: 68.09104223653864 %\n"
     ]
    }
   ],
   "source": [
    "print('Logistic Regression Overall Accuracy:',\n",
    "      np.mean(lr_accu_stratified)*100, '%')"
   ]
  },
  {
   "cell_type": "code",
   "execution_count": 29,
   "id": "085f3670",
   "metadata": {
    "scrolled": false
   },
   "outputs": [
    {
     "data": {
      "text/plain": [
       "XGBClassifier(base_score=None, booster=None, callbacks=None,\n",
       "              colsample_bylevel=None, colsample_bynode=None,\n",
       "              colsample_bytree=None, early_stopping_rounds=None,\n",
       "              enable_categorical=False, eval_metric=None, feature_types=None,\n",
       "              gamma=0.9908107726363928, gpu_id=None, grow_policy=None,\n",
       "              importance_type=None, interaction_constraints=None,\n",
       "              learning_rate=0.014365840866232403, max_bin=None,\n",
       "              max_cat_threshold=None, max_cat_to_onehot=None,\n",
       "              max_delta_step=None, max_depth=3, max_leaves=None,\n",
       "              min_child_weight=None, missing=nan, monotone_constraints=None,\n",
       "              n_estimators=300, n_jobs=-1, num_parallel_tree=None,\n",
       "              predictor=None, random_state=None, ...)"
      ]
     },
     "execution_count": 29,
     "metadata": {},
     "output_type": "execute_result"
    },
    {
     "data": {
      "text/plain": [
       "XGBClassifier(base_score=None, booster=None, callbacks=None,\n",
       "              colsample_bylevel=None, colsample_bynode=None,\n",
       "              colsample_bytree=None, early_stopping_rounds=None,\n",
       "              enable_categorical=False, eval_metric=None, feature_types=None,\n",
       "              gamma=0.9908107726363928, gpu_id=None, grow_policy=None,\n",
       "              importance_type=None, interaction_constraints=None,\n",
       "              learning_rate=0.014365840866232403, max_bin=None,\n",
       "              max_cat_threshold=None, max_cat_to_onehot=None,\n",
       "              max_delta_step=None, max_depth=3, max_leaves=None,\n",
       "              min_child_weight=None, missing=nan, monotone_constraints=None,\n",
       "              n_estimators=300, n_jobs=-1, num_parallel_tree=None,\n",
       "              predictor=None, random_state=None, ...)"
      ]
     },
     "execution_count": 29,
     "metadata": {},
     "output_type": "execute_result"
    },
    {
     "data": {
      "text/plain": [
       "XGBClassifier(base_score=None, booster=None, callbacks=None,\n",
       "              colsample_bylevel=None, colsample_bynode=None,\n",
       "              colsample_bytree=None, early_stopping_rounds=None,\n",
       "              enable_categorical=False, eval_metric=None, feature_types=None,\n",
       "              gamma=0.9908107726363928, gpu_id=None, grow_policy=None,\n",
       "              importance_type=None, interaction_constraints=None,\n",
       "              learning_rate=0.014365840866232403, max_bin=None,\n",
       "              max_cat_threshold=None, max_cat_to_onehot=None,\n",
       "              max_delta_step=None, max_depth=3, max_leaves=None,\n",
       "              min_child_weight=None, missing=nan, monotone_constraints=None,\n",
       "              n_estimators=300, n_jobs=-1, num_parallel_tree=None,\n",
       "              predictor=None, random_state=None, ...)"
      ]
     },
     "execution_count": 29,
     "metadata": {},
     "output_type": "execute_result"
    },
    {
     "data": {
      "text/plain": [
       "XGBClassifier(base_score=None, booster=None, callbacks=None,\n",
       "              colsample_bylevel=None, colsample_bynode=None,\n",
       "              colsample_bytree=None, early_stopping_rounds=None,\n",
       "              enable_categorical=False, eval_metric=None, feature_types=None,\n",
       "              gamma=0.9908107726363928, gpu_id=None, grow_policy=None,\n",
       "              importance_type=None, interaction_constraints=None,\n",
       "              learning_rate=0.014365840866232403, max_bin=None,\n",
       "              max_cat_threshold=None, max_cat_to_onehot=None,\n",
       "              max_delta_step=None, max_depth=3, max_leaves=None,\n",
       "              min_child_weight=None, missing=nan, monotone_constraints=None,\n",
       "              n_estimators=300, n_jobs=-1, num_parallel_tree=None,\n",
       "              predictor=None, random_state=None, ...)"
      ]
     },
     "execution_count": 29,
     "metadata": {},
     "output_type": "execute_result"
    },
    {
     "data": {
      "text/plain": [
       "XGBClassifier(base_score=None, booster=None, callbacks=None,\n",
       "              colsample_bylevel=None, colsample_bynode=None,\n",
       "              colsample_bytree=None, early_stopping_rounds=None,\n",
       "              enable_categorical=False, eval_metric=None, feature_types=None,\n",
       "              gamma=0.9908107726363928, gpu_id=None, grow_policy=None,\n",
       "              importance_type=None, interaction_constraints=None,\n",
       "              learning_rate=0.014365840866232403, max_bin=None,\n",
       "              max_cat_threshold=None, max_cat_to_onehot=None,\n",
       "              max_delta_step=None, max_depth=3, max_leaves=None,\n",
       "              min_child_weight=None, missing=nan, monotone_constraints=None,\n",
       "              n_estimators=300, n_jobs=-1, num_parallel_tree=None,\n",
       "              predictor=None, random_state=None, ...)"
      ]
     },
     "execution_count": 29,
     "metadata": {},
     "output_type": "execute_result"
    },
    {
     "data": {
      "text/plain": [
       "XGBClassifier(base_score=None, booster=None, callbacks=None,\n",
       "              colsample_bylevel=None, colsample_bynode=None,\n",
       "              colsample_bytree=None, early_stopping_rounds=None,\n",
       "              enable_categorical=False, eval_metric=None, feature_types=None,\n",
       "              gamma=0.9908107726363928, gpu_id=None, grow_policy=None,\n",
       "              importance_type=None, interaction_constraints=None,\n",
       "              learning_rate=0.014365840866232403, max_bin=None,\n",
       "              max_cat_threshold=None, max_cat_to_onehot=None,\n",
       "              max_delta_step=None, max_depth=3, max_leaves=None,\n",
       "              min_child_weight=None, missing=nan, monotone_constraints=None,\n",
       "              n_estimators=300, n_jobs=-1, num_parallel_tree=None,\n",
       "              predictor=None, random_state=None, ...)"
      ]
     },
     "execution_count": 29,
     "metadata": {},
     "output_type": "execute_result"
    },
    {
     "data": {
      "text/plain": [
       "XGBClassifier(base_score=None, booster=None, callbacks=None,\n",
       "              colsample_bylevel=None, colsample_bynode=None,\n",
       "              colsample_bytree=None, early_stopping_rounds=None,\n",
       "              enable_categorical=False, eval_metric=None, feature_types=None,\n",
       "              gamma=0.9908107726363928, gpu_id=None, grow_policy=None,\n",
       "              importance_type=None, interaction_constraints=None,\n",
       "              learning_rate=0.014365840866232403, max_bin=None,\n",
       "              max_cat_threshold=None, max_cat_to_onehot=None,\n",
       "              max_delta_step=None, max_depth=3, max_leaves=None,\n",
       "              min_child_weight=None, missing=nan, monotone_constraints=None,\n",
       "              n_estimators=300, n_jobs=-1, num_parallel_tree=None,\n",
       "              predictor=None, random_state=None, ...)"
      ]
     },
     "execution_count": 29,
     "metadata": {},
     "output_type": "execute_result"
    },
    {
     "data": {
      "text/plain": [
       "XGBClassifier(base_score=None, booster=None, callbacks=None,\n",
       "              colsample_bylevel=None, colsample_bynode=None,\n",
       "              colsample_bytree=None, early_stopping_rounds=None,\n",
       "              enable_categorical=False, eval_metric=None, feature_types=None,\n",
       "              gamma=0.9908107726363928, gpu_id=None, grow_policy=None,\n",
       "              importance_type=None, interaction_constraints=None,\n",
       "              learning_rate=0.014365840866232403, max_bin=None,\n",
       "              max_cat_threshold=None, max_cat_to_onehot=None,\n",
       "              max_delta_step=None, max_depth=3, max_leaves=None,\n",
       "              min_child_weight=None, missing=nan, monotone_constraints=None,\n",
       "              n_estimators=300, n_jobs=-1, num_parallel_tree=None,\n",
       "              predictor=None, random_state=None, ...)"
      ]
     },
     "execution_count": 29,
     "metadata": {},
     "output_type": "execute_result"
    },
    {
     "data": {
      "text/plain": [
       "XGBClassifier(base_score=None, booster=None, callbacks=None,\n",
       "              colsample_bylevel=None, colsample_bynode=None,\n",
       "              colsample_bytree=None, early_stopping_rounds=None,\n",
       "              enable_categorical=False, eval_metric=None, feature_types=None,\n",
       "              gamma=0.9908107726363928, gpu_id=None, grow_policy=None,\n",
       "              importance_type=None, interaction_constraints=None,\n",
       "              learning_rate=0.014365840866232403, max_bin=None,\n",
       "              max_cat_threshold=None, max_cat_to_onehot=None,\n",
       "              max_delta_step=None, max_depth=3, max_leaves=None,\n",
       "              min_child_weight=None, missing=nan, monotone_constraints=None,\n",
       "              n_estimators=300, n_jobs=-1, num_parallel_tree=None,\n",
       "              predictor=None, random_state=None, ...)"
      ]
     },
     "execution_count": 29,
     "metadata": {},
     "output_type": "execute_result"
    },
    {
     "data": {
      "text/plain": [
       "XGBClassifier(base_score=None, booster=None, callbacks=None,\n",
       "              colsample_bylevel=None, colsample_bynode=None,\n",
       "              colsample_bytree=None, early_stopping_rounds=None,\n",
       "              enable_categorical=False, eval_metric=None, feature_types=None,\n",
       "              gamma=0.9908107726363928, gpu_id=None, grow_policy=None,\n",
       "              importance_type=None, interaction_constraints=None,\n",
       "              learning_rate=0.014365840866232403, max_bin=None,\n",
       "              max_cat_threshold=None, max_cat_to_onehot=None,\n",
       "              max_delta_step=None, max_depth=3, max_leaves=None,\n",
       "              min_child_weight=None, missing=nan, monotone_constraints=None,\n",
       "              n_estimators=300, n_jobs=-1, num_parallel_tree=None,\n",
       "              predictor=None, random_state=None, ...)"
      ]
     },
     "execution_count": 29,
     "metadata": {},
     "output_type": "execute_result"
    }
   ],
   "source": [
    "xgb_accu_stratified = [] #list to store each iterations results \n",
    "  \n",
    "for train_index, test_index in skf.split(features, target):\n",
    "    x_train_fold, x_test_fold = features.iloc[train_index,:], features.iloc[test_index,:]\n",
    "    y_train_fold, y_test_fold = target.iloc[train_index], target.iloc[test_index]\n",
    "    xgb.fit(x_train_fold, y_train_fold)\n",
    "    xgb_accu_stratified.append(xgb.score(x_test_fold, y_test_fold))"
   ]
  },
  {
   "cell_type": "code",
   "execution_count": 30,
   "id": "8303e847",
   "metadata": {},
   "outputs": [
    {
     "name": "stdout",
     "output_type": "stream",
     "text": [
      "XGBoost Overall Accuracy: 66.93173819202165 %\n"
     ]
    }
   ],
   "source": [
    "print('XGBoost Overall Accuracy:',\n",
    "      np.mean(xgb_accu_stratified)*100, '%')"
   ]
  },
  {
   "cell_type": "code",
   "execution_count": 31,
   "id": "47736a49",
   "metadata": {
    "scrolled": false
   },
   "outputs": [
    {
     "data": {
      "text/plain": [
       "StackingClassifier(cv=5,\n",
       "                   estimators=[('rf',\n",
       "                                RandomForestClassifier(max_depth=19,\n",
       "                                                       min_samples_leaf=101,\n",
       "                                                       min_samples_split=431,\n",
       "                                                       n_estimators=300,\n",
       "                                                       n_jobs=-1)),\n",
       "                               ('xgb',\n",
       "                                XGBClassifier(base_score=None, booster=None,\n",
       "                                              callbacks=None,\n",
       "                                              colsample_bylevel=None,\n",
       "                                              colsample_bynode=None,\n",
       "                                              colsample_bytree=None,\n",
       "                                              early_stopping_rounds=None,\n",
       "                                              enable_categorical=False,\n",
       "                                              eval_metric=None...\n",
       "                                              max_leaves=None,\n",
       "                                              min_child_weight=None,\n",
       "                                              missing=nan,\n",
       "                                              monotone_constraints=None,\n",
       "                                              n_estimators=300, n_jobs=-1,\n",
       "                                              num_parallel_tree=None,\n",
       "                                              predictor=None, random_state=None, ...)),\n",
       "                               ('lr',\n",
       "                                LogisticRegression(class_weight='balanced',\n",
       "                                                   n_jobs=-1))],\n",
       "                   final_estimator=RandomForestClassifier(max_depth=19,\n",
       "                                                          min_samples_leaf=101,\n",
       "                                                          min_samples_split=431,\n",
       "                                                          n_estimators=300,\n",
       "                                                          n_jobs=-1),\n",
       "                   n_jobs=-1)"
      ]
     },
     "execution_count": 31,
     "metadata": {},
     "output_type": "execute_result"
    },
    {
     "data": {
      "text/plain": [
       "StackingClassifier(cv=5,\n",
       "                   estimators=[('rf',\n",
       "                                RandomForestClassifier(max_depth=19,\n",
       "                                                       min_samples_leaf=101,\n",
       "                                                       min_samples_split=431,\n",
       "                                                       n_estimators=300,\n",
       "                                                       n_jobs=-1)),\n",
       "                               ('xgb',\n",
       "                                XGBClassifier(base_score=None, booster=None,\n",
       "                                              callbacks=None,\n",
       "                                              colsample_bylevel=None,\n",
       "                                              colsample_bynode=None,\n",
       "                                              colsample_bytree=None,\n",
       "                                              early_stopping_rounds=None,\n",
       "                                              enable_categorical=False,\n",
       "                                              eval_metric=None...\n",
       "                                              max_leaves=None,\n",
       "                                              min_child_weight=None,\n",
       "                                              missing=nan,\n",
       "                                              monotone_constraints=None,\n",
       "                                              n_estimators=300, n_jobs=-1,\n",
       "                                              num_parallel_tree=None,\n",
       "                                              predictor=None, random_state=None, ...)),\n",
       "                               ('lr',\n",
       "                                LogisticRegression(class_weight='balanced',\n",
       "                                                   n_jobs=-1))],\n",
       "                   final_estimator=RandomForestClassifier(max_depth=19,\n",
       "                                                          min_samples_leaf=101,\n",
       "                                                          min_samples_split=431,\n",
       "                                                          n_estimators=300,\n",
       "                                                          n_jobs=-1),\n",
       "                   n_jobs=-1)"
      ]
     },
     "execution_count": 31,
     "metadata": {},
     "output_type": "execute_result"
    },
    {
     "data": {
      "text/plain": [
       "StackingClassifier(cv=5,\n",
       "                   estimators=[('rf',\n",
       "                                RandomForestClassifier(max_depth=19,\n",
       "                                                       min_samples_leaf=101,\n",
       "                                                       min_samples_split=431,\n",
       "                                                       n_estimators=300,\n",
       "                                                       n_jobs=-1)),\n",
       "                               ('xgb',\n",
       "                                XGBClassifier(base_score=None, booster=None,\n",
       "                                              callbacks=None,\n",
       "                                              colsample_bylevel=None,\n",
       "                                              colsample_bynode=None,\n",
       "                                              colsample_bytree=None,\n",
       "                                              early_stopping_rounds=None,\n",
       "                                              enable_categorical=False,\n",
       "                                              eval_metric=None...\n",
       "                                              max_leaves=None,\n",
       "                                              min_child_weight=None,\n",
       "                                              missing=nan,\n",
       "                                              monotone_constraints=None,\n",
       "                                              n_estimators=300, n_jobs=-1,\n",
       "                                              num_parallel_tree=None,\n",
       "                                              predictor=None, random_state=None, ...)),\n",
       "                               ('lr',\n",
       "                                LogisticRegression(class_weight='balanced',\n",
       "                                                   n_jobs=-1))],\n",
       "                   final_estimator=RandomForestClassifier(max_depth=19,\n",
       "                                                          min_samples_leaf=101,\n",
       "                                                          min_samples_split=431,\n",
       "                                                          n_estimators=300,\n",
       "                                                          n_jobs=-1),\n",
       "                   n_jobs=-1)"
      ]
     },
     "execution_count": 31,
     "metadata": {},
     "output_type": "execute_result"
    },
    {
     "data": {
      "text/plain": [
       "StackingClassifier(cv=5,\n",
       "                   estimators=[('rf',\n",
       "                                RandomForestClassifier(max_depth=19,\n",
       "                                                       min_samples_leaf=101,\n",
       "                                                       min_samples_split=431,\n",
       "                                                       n_estimators=300,\n",
       "                                                       n_jobs=-1)),\n",
       "                               ('xgb',\n",
       "                                XGBClassifier(base_score=None, booster=None,\n",
       "                                              callbacks=None,\n",
       "                                              colsample_bylevel=None,\n",
       "                                              colsample_bynode=None,\n",
       "                                              colsample_bytree=None,\n",
       "                                              early_stopping_rounds=None,\n",
       "                                              enable_categorical=False,\n",
       "                                              eval_metric=None...\n",
       "                                              max_leaves=None,\n",
       "                                              min_child_weight=None,\n",
       "                                              missing=nan,\n",
       "                                              monotone_constraints=None,\n",
       "                                              n_estimators=300, n_jobs=-1,\n",
       "                                              num_parallel_tree=None,\n",
       "                                              predictor=None, random_state=None, ...)),\n",
       "                               ('lr',\n",
       "                                LogisticRegression(class_weight='balanced',\n",
       "                                                   n_jobs=-1))],\n",
       "                   final_estimator=RandomForestClassifier(max_depth=19,\n",
       "                                                          min_samples_leaf=101,\n",
       "                                                          min_samples_split=431,\n",
       "                                                          n_estimators=300,\n",
       "                                                          n_jobs=-1),\n",
       "                   n_jobs=-1)"
      ]
     },
     "execution_count": 31,
     "metadata": {},
     "output_type": "execute_result"
    },
    {
     "data": {
      "text/plain": [
       "StackingClassifier(cv=5,\n",
       "                   estimators=[('rf',\n",
       "                                RandomForestClassifier(max_depth=19,\n",
       "                                                       min_samples_leaf=101,\n",
       "                                                       min_samples_split=431,\n",
       "                                                       n_estimators=300,\n",
       "                                                       n_jobs=-1)),\n",
       "                               ('xgb',\n",
       "                                XGBClassifier(base_score=None, booster=None,\n",
       "                                              callbacks=None,\n",
       "                                              colsample_bylevel=None,\n",
       "                                              colsample_bynode=None,\n",
       "                                              colsample_bytree=None,\n",
       "                                              early_stopping_rounds=None,\n",
       "                                              enable_categorical=False,\n",
       "                                              eval_metric=None...\n",
       "                                              max_leaves=None,\n",
       "                                              min_child_weight=None,\n",
       "                                              missing=nan,\n",
       "                                              monotone_constraints=None,\n",
       "                                              n_estimators=300, n_jobs=-1,\n",
       "                                              num_parallel_tree=None,\n",
       "                                              predictor=None, random_state=None, ...)),\n",
       "                               ('lr',\n",
       "                                LogisticRegression(class_weight='balanced',\n",
       "                                                   n_jobs=-1))],\n",
       "                   final_estimator=RandomForestClassifier(max_depth=19,\n",
       "                                                          min_samples_leaf=101,\n",
       "                                                          min_samples_split=431,\n",
       "                                                          n_estimators=300,\n",
       "                                                          n_jobs=-1),\n",
       "                   n_jobs=-1)"
      ]
     },
     "execution_count": 31,
     "metadata": {},
     "output_type": "execute_result"
    },
    {
     "data": {
      "text/plain": [
       "StackingClassifier(cv=5,\n",
       "                   estimators=[('rf',\n",
       "                                RandomForestClassifier(max_depth=19,\n",
       "                                                       min_samples_leaf=101,\n",
       "                                                       min_samples_split=431,\n",
       "                                                       n_estimators=300,\n",
       "                                                       n_jobs=-1)),\n",
       "                               ('xgb',\n",
       "                                XGBClassifier(base_score=None, booster=None,\n",
       "                                              callbacks=None,\n",
       "                                              colsample_bylevel=None,\n",
       "                                              colsample_bynode=None,\n",
       "                                              colsample_bytree=None,\n",
       "                                              early_stopping_rounds=None,\n",
       "                                              enable_categorical=False,\n",
       "                                              eval_metric=None...\n",
       "                                              max_leaves=None,\n",
       "                                              min_child_weight=None,\n",
       "                                              missing=nan,\n",
       "                                              monotone_constraints=None,\n",
       "                                              n_estimators=300, n_jobs=-1,\n",
       "                                              num_parallel_tree=None,\n",
       "                                              predictor=None, random_state=None, ...)),\n",
       "                               ('lr',\n",
       "                                LogisticRegression(class_weight='balanced',\n",
       "                                                   n_jobs=-1))],\n",
       "                   final_estimator=RandomForestClassifier(max_depth=19,\n",
       "                                                          min_samples_leaf=101,\n",
       "                                                          min_samples_split=431,\n",
       "                                                          n_estimators=300,\n",
       "                                                          n_jobs=-1),\n",
       "                   n_jobs=-1)"
      ]
     },
     "execution_count": 31,
     "metadata": {},
     "output_type": "execute_result"
    },
    {
     "data": {
      "text/plain": [
       "StackingClassifier(cv=5,\n",
       "                   estimators=[('rf',\n",
       "                                RandomForestClassifier(max_depth=19,\n",
       "                                                       min_samples_leaf=101,\n",
       "                                                       min_samples_split=431,\n",
       "                                                       n_estimators=300,\n",
       "                                                       n_jobs=-1)),\n",
       "                               ('xgb',\n",
       "                                XGBClassifier(base_score=None, booster=None,\n",
       "                                              callbacks=None,\n",
       "                                              colsample_bylevel=None,\n",
       "                                              colsample_bynode=None,\n",
       "                                              colsample_bytree=None,\n",
       "                                              early_stopping_rounds=None,\n",
       "                                              enable_categorical=False,\n",
       "                                              eval_metric=None...\n",
       "                                              max_leaves=None,\n",
       "                                              min_child_weight=None,\n",
       "                                              missing=nan,\n",
       "                                              monotone_constraints=None,\n",
       "                                              n_estimators=300, n_jobs=-1,\n",
       "                                              num_parallel_tree=None,\n",
       "                                              predictor=None, random_state=None, ...)),\n",
       "                               ('lr',\n",
       "                                LogisticRegression(class_weight='balanced',\n",
       "                                                   n_jobs=-1))],\n",
       "                   final_estimator=RandomForestClassifier(max_depth=19,\n",
       "                                                          min_samples_leaf=101,\n",
       "                                                          min_samples_split=431,\n",
       "                                                          n_estimators=300,\n",
       "                                                          n_jobs=-1),\n",
       "                   n_jobs=-1)"
      ]
     },
     "execution_count": 31,
     "metadata": {},
     "output_type": "execute_result"
    },
    {
     "data": {
      "text/plain": [
       "StackingClassifier(cv=5,\n",
       "                   estimators=[('rf',\n",
       "                                RandomForestClassifier(max_depth=19,\n",
       "                                                       min_samples_leaf=101,\n",
       "                                                       min_samples_split=431,\n",
       "                                                       n_estimators=300,\n",
       "                                                       n_jobs=-1)),\n",
       "                               ('xgb',\n",
       "                                XGBClassifier(base_score=None, booster=None,\n",
       "                                              callbacks=None,\n",
       "                                              colsample_bylevel=None,\n",
       "                                              colsample_bynode=None,\n",
       "                                              colsample_bytree=None,\n",
       "                                              early_stopping_rounds=None,\n",
       "                                              enable_categorical=False,\n",
       "                                              eval_metric=None...\n",
       "                                              max_leaves=None,\n",
       "                                              min_child_weight=None,\n",
       "                                              missing=nan,\n",
       "                                              monotone_constraints=None,\n",
       "                                              n_estimators=300, n_jobs=-1,\n",
       "                                              num_parallel_tree=None,\n",
       "                                              predictor=None, random_state=None, ...)),\n",
       "                               ('lr',\n",
       "                                LogisticRegression(class_weight='balanced',\n",
       "                                                   n_jobs=-1))],\n",
       "                   final_estimator=RandomForestClassifier(max_depth=19,\n",
       "                                                          min_samples_leaf=101,\n",
       "                                                          min_samples_split=431,\n",
       "                                                          n_estimators=300,\n",
       "                                                          n_jobs=-1),\n",
       "                   n_jobs=-1)"
      ]
     },
     "execution_count": 31,
     "metadata": {},
     "output_type": "execute_result"
    },
    {
     "data": {
      "text/plain": [
       "StackingClassifier(cv=5,\n",
       "                   estimators=[('rf',\n",
       "                                RandomForestClassifier(max_depth=19,\n",
       "                                                       min_samples_leaf=101,\n",
       "                                                       min_samples_split=431,\n",
       "                                                       n_estimators=300,\n",
       "                                                       n_jobs=-1)),\n",
       "                               ('xgb',\n",
       "                                XGBClassifier(base_score=None, booster=None,\n",
       "                                              callbacks=None,\n",
       "                                              colsample_bylevel=None,\n",
       "                                              colsample_bynode=None,\n",
       "                                              colsample_bytree=None,\n",
       "                                              early_stopping_rounds=None,\n",
       "                                              enable_categorical=False,\n",
       "                                              eval_metric=None...\n",
       "                                              max_leaves=None,\n",
       "                                              min_child_weight=None,\n",
       "                                              missing=nan,\n",
       "                                              monotone_constraints=None,\n",
       "                                              n_estimators=300, n_jobs=-1,\n",
       "                                              num_parallel_tree=None,\n",
       "                                              predictor=None, random_state=None, ...)),\n",
       "                               ('lr',\n",
       "                                LogisticRegression(class_weight='balanced',\n",
       "                                                   n_jobs=-1))],\n",
       "                   final_estimator=RandomForestClassifier(max_depth=19,\n",
       "                                                          min_samples_leaf=101,\n",
       "                                                          min_samples_split=431,\n",
       "                                                          n_estimators=300,\n",
       "                                                          n_jobs=-1),\n",
       "                   n_jobs=-1)"
      ]
     },
     "execution_count": 31,
     "metadata": {},
     "output_type": "execute_result"
    },
    {
     "data": {
      "text/plain": [
       "StackingClassifier(cv=5,\n",
       "                   estimators=[('rf',\n",
       "                                RandomForestClassifier(max_depth=19,\n",
       "                                                       min_samples_leaf=101,\n",
       "                                                       min_samples_split=431,\n",
       "                                                       n_estimators=300,\n",
       "                                                       n_jobs=-1)),\n",
       "                               ('xgb',\n",
       "                                XGBClassifier(base_score=None, booster=None,\n",
       "                                              callbacks=None,\n",
       "                                              colsample_bylevel=None,\n",
       "                                              colsample_bynode=None,\n",
       "                                              colsample_bytree=None,\n",
       "                                              early_stopping_rounds=None,\n",
       "                                              enable_categorical=False,\n",
       "                                              eval_metric=None...\n",
       "                                              max_leaves=None,\n",
       "                                              min_child_weight=None,\n",
       "                                              missing=nan,\n",
       "                                              monotone_constraints=None,\n",
       "                                              n_estimators=300, n_jobs=-1,\n",
       "                                              num_parallel_tree=None,\n",
       "                                              predictor=None, random_state=None, ...)),\n",
       "                               ('lr',\n",
       "                                LogisticRegression(class_weight='balanced',\n",
       "                                                   n_jobs=-1))],\n",
       "                   final_estimator=RandomForestClassifier(max_depth=19,\n",
       "                                                          min_samples_leaf=101,\n",
       "                                                          min_samples_split=431,\n",
       "                                                          n_estimators=300,\n",
       "                                                          n_jobs=-1),\n",
       "                   n_jobs=-1)"
      ]
     },
     "execution_count": 31,
     "metadata": {},
     "output_type": "execute_result"
    }
   ],
   "source": [
    "sclf_accu_stratified = [] #list to store each iterations results \n",
    "  \n",
    "for train_index, test_index in skf.split(features, target):\n",
    "    x_train_fold, x_test_fold = features.iloc[train_index,:], features.iloc[test_index,:]\n",
    "    y_train_fold, y_test_fold = target.iloc[train_index], target.iloc[test_index]\n",
    "    sclf.fit(x_train_fold, y_train_fold)\n",
    "    sclf_accu_stratified.append(sclf.score(x_test_fold, y_test_fold))"
   ]
  },
  {
   "cell_type": "code",
   "execution_count": 32,
   "id": "cbd2f5c0",
   "metadata": {},
   "outputs": [
    {
     "name": "stdout",
     "output_type": "stream",
     "text": [
      "Stacked Classifier Overall Accuracy: 66.93173819202165 %\n"
     ]
    }
   ],
   "source": [
    "print('Stacked Classifier Overall Accuracy:',\n",
    "      np.mean(xgb_accu_stratified)*100, '%')"
   ]
  },
  {
   "cell_type": "markdown",
   "id": "3b1ded9c",
   "metadata": {},
   "source": [
    "# Training and Testing "
   ]
  },
  {
   "cell_type": "code",
   "execution_count": 33,
   "id": "bc421bbf",
   "metadata": {
    "scrolled": true
   },
   "outputs": [
    {
     "data": {
      "text/plain": [
       "RandomForestClassifier(max_depth=19, min_samples_leaf=101,\n",
       "                       min_samples_split=431, n_estimators=300, n_jobs=-1)"
      ]
     },
     "execution_count": 33,
     "metadata": {},
     "output_type": "execute_result"
    },
    {
     "data": {
      "text/plain": [
       "LogisticRegression(class_weight='balanced', n_jobs=-1)"
      ]
     },
     "execution_count": 33,
     "metadata": {},
     "output_type": "execute_result"
    },
    {
     "data": {
      "text/plain": [
       "XGBClassifier(base_score=None, booster=None, callbacks=None,\n",
       "              colsample_bylevel=None, colsample_bynode=None,\n",
       "              colsample_bytree=None, early_stopping_rounds=None,\n",
       "              enable_categorical=False, eval_metric=None, feature_types=None,\n",
       "              gamma=0.9908107726363928, gpu_id=None, grow_policy=None,\n",
       "              importance_type=None, interaction_constraints=None,\n",
       "              learning_rate=0.014365840866232403, max_bin=None,\n",
       "              max_cat_threshold=None, max_cat_to_onehot=None,\n",
       "              max_delta_step=None, max_depth=3, max_leaves=None,\n",
       "              min_child_weight=None, missing=nan, monotone_constraints=None,\n",
       "              n_estimators=300, n_jobs=-1, num_parallel_tree=None,\n",
       "              predictor=None, random_state=None, ...)"
      ]
     },
     "execution_count": 33,
     "metadata": {},
     "output_type": "execute_result"
    },
    {
     "data": {
      "text/plain": [
       "StackingClassifier(cv=5,\n",
       "                   estimators=[('rf',\n",
       "                                RandomForestClassifier(max_depth=19,\n",
       "                                                       min_samples_leaf=101,\n",
       "                                                       min_samples_split=431,\n",
       "                                                       n_estimators=300,\n",
       "                                                       n_jobs=-1)),\n",
       "                               ('xgb',\n",
       "                                XGBClassifier(base_score=None, booster=None,\n",
       "                                              callbacks=None,\n",
       "                                              colsample_bylevel=None,\n",
       "                                              colsample_bynode=None,\n",
       "                                              colsample_bytree=None,\n",
       "                                              early_stopping_rounds=None,\n",
       "                                              enable_categorical=False,\n",
       "                                              eval_metric=None...\n",
       "                                              max_leaves=None,\n",
       "                                              min_child_weight=None,\n",
       "                                              missing=nan,\n",
       "                                              monotone_constraints=None,\n",
       "                                              n_estimators=300, n_jobs=-1,\n",
       "                                              num_parallel_tree=None,\n",
       "                                              predictor=None, random_state=None, ...)),\n",
       "                               ('lr',\n",
       "                                LogisticRegression(class_weight='balanced',\n",
       "                                                   n_jobs=-1))],\n",
       "                   final_estimator=RandomForestClassifier(max_depth=19,\n",
       "                                                          min_samples_leaf=101,\n",
       "                                                          min_samples_split=431,\n",
       "                                                          n_estimators=300,\n",
       "                                                          n_jobs=-1),\n",
       "                   n_jobs=-1)"
      ]
     },
     "execution_count": 33,
     "metadata": {},
     "output_type": "execute_result"
    }
   ],
   "source": [
    "rf.fit(X_train,y_train)\n",
    "lr.fit(X_train,y_train)\n",
    "xgb.fit(X_train,y_train)\n",
    "sclf.fit(X_train, y_train)\n",
    "\n",
    "rf_pred = rf.predict(X_test)\n",
    "lr_pred = lr.predict(X_test)\n",
    "xgb_pred = xgb.predict(X_test)\n",
    "sclf_pred = sclf.predict(X_test)"
   ]
  },
  {
   "cell_type": "markdown",
   "id": "2cf152b6",
   "metadata": {},
   "source": [
    "## Evaluation"
   ]
  },
  {
   "cell_type": "markdown",
   "id": "ac899b78",
   "metadata": {},
   "source": [
    "### Accuracy, Recall "
   ]
  },
  {
   "cell_type": "code",
   "execution_count": 34,
   "id": "dd283660",
   "metadata": {
    "scrolled": true
   },
   "outputs": [
    {
     "name": "stdout",
     "output_type": "stream",
     "text": [
      "RF Training accuracy: 0.706\n",
      "RF Testing accuracy: 0.675\n",
      "RF Balanced accuracy: 0.674\n",
      "RF Recall : 0.670\n",
      "RF F1 : 0.574\n",
      "\n",
      "LR Training accuracy: 0.692\n",
      "LR Testing accuracy: 0.651\n",
      "LR Balanced accuracy: 0.653\n",
      "LR Recall : 0.659\n",
      "LR F1 : 0.553\n",
      "\n",
      "xgb Training accuracy: 0.679\n",
      "xgb Testing accuracy: 0.645\n",
      "xgb Balanced accuracy: 0.656\n",
      "xgb Recall : 0.689\n",
      "xgb F1 : 0.559\n",
      "\n",
      "sclf Training accuracy: 0.720\n",
      "sclf Testing accuracy: 0.684\n",
      "sclf Balanced accuracy: 0.675\n",
      "sclf Recall : 0.647\n",
      "sclf F1 : 0.573\n"
     ]
    }
   ],
   "source": [
    "print('RF Training accuracy: %.3f' % rf.score(X_train,y_train))\n",
    "print('RF Testing accuracy: %.3f' % rf.score(X_test, y_test))\n",
    "print('RF Balanced accuracy: %.3f' % balanced_accuracy_score(y_test,rf_pred))\n",
    "print('RF Recall : %.3f' %recall_score(y_test,rf_pred))\n",
    "print('RF F1 : %.3f' % f1_score(y_test,rf_pred))\n",
    "\n",
    "print('\\nLR Training accuracy: %.3f' % lr.score(X_train,y_train))\n",
    "print('LR Testing accuracy: %.3f' % lr.score(X_test, y_test))\n",
    "print('LR Balanced accuracy: %.3f' % balanced_accuracy_score(y_test,lr_pred))\n",
    "print('LR Recall : %.3f' % recall_score(y_test,lr_pred))\n",
    "print('LR F1 : %.3f' % f1_score(y_test,lr_pred))\n",
    "\n",
    "\n",
    "print('\\nxgb Training accuracy: %.3f' % xgb.score(X_train,y_train))\n",
    "print('xgb Testing accuracy: %.3f' % xgb.score(X_test, y_test))\n",
    "print('xgb Balanced accuracy: %.3f' % balanced_accuracy_score(y_test,xgb_pred))\n",
    "print('xgb Recall : %.3f' % recall_score(y_test,xgb_pred))\n",
    "print('xgb F1 : %.3f' % f1_score(y_test,xgb_pred))\n",
    "\n",
    "print('\\nsclf Training accuracy: %.3f' % sclf.score(X_train,y_train))\n",
    "print('sclf Testing accuracy: %.3f' % sclf.score(X_test, y_test))\n",
    "print('sclf Balanced accuracy: %.3f' % balanced_accuracy_score(y_test,sclf_pred))\n",
    "print('sclf Recall : %.3f' % recall_score(y_test,sclf_pred))\n",
    "print('sclf F1 : %.3f' % f1_score(y_test,sclf_pred))"
   ]
  },
  {
   "cell_type": "markdown",
   "id": "4c603d2b",
   "metadata": {},
   "source": [
    "### Confusion Matrices "
   ]
  },
  {
   "cell_type": "code",
   "execution_count": 35,
   "id": "a5c21741",
   "metadata": {},
   "outputs": [
    {
     "data": {
      "text/plain": [
       "Text(0.5, 1.0, 'Random Forest')"
      ]
     },
     "execution_count": 35,
     "metadata": {},
     "output_type": "execute_result"
    },
    {
     "data": {
      "text/plain": [
       "<sklearn.metrics._plot.confusion_matrix.ConfusionMatrixDisplay at 0x2be26d0c760>"
      ]
     },
     "execution_count": 35,
     "metadata": {},
     "output_type": "execute_result"
    },
    {
     "data": {
      "text/plain": [
       "Text(0.5, 1.0, 'Logistic Regression')"
      ]
     },
     "execution_count": 35,
     "metadata": {},
     "output_type": "execute_result"
    },
    {
     "data": {
      "text/plain": [
       "<sklearn.metrics._plot.confusion_matrix.ConfusionMatrixDisplay at 0x2be26d0c3a0>"
      ]
     },
     "execution_count": 35,
     "metadata": {},
     "output_type": "execute_result"
    },
    {
     "data": {
      "text/plain": [
       "Text(0.5, 1.0, 'XGBoost')"
      ]
     },
     "execution_count": 35,
     "metadata": {},
     "output_type": "execute_result"
    },
    {
     "data": {
      "text/plain": [
       "<sklearn.metrics._plot.confusion_matrix.ConfusionMatrixDisplay at 0x2be26d0cca0>"
      ]
     },
     "execution_count": 35,
     "metadata": {},
     "output_type": "execute_result"
    },
    {
     "data": {
      "text/plain": [
       "Text(0.5, 1.0, 'Stacked Classifier')"
      ]
     },
     "execution_count": 35,
     "metadata": {},
     "output_type": "execute_result"
    },
    {
     "data": {
      "text/plain": [
       "<sklearn.metrics._plot.confusion_matrix.ConfusionMatrixDisplay at 0x2be26d0cdf0>"
      ]
     },
     "execution_count": 35,
     "metadata": {},
     "output_type": "execute_result"
    },
    {
     "data": {
      "text/plain": [
       "Text(0.5, 0.98, 'Confusion Matrices')"
      ]
     },
     "execution_count": 35,
     "metadata": {},
     "output_type": "execute_result"
    },
    {
     "data": {
      "image/png": "[encoded data removed]",
      "text/plain": [
       "<Figure size 720x720 with 4 Axes>"
      ]
     },
     "metadata": {
      "needs_background": "light"
     },
     "output_type": "display_data"
    }
   ],
   "source": [
    "# fig, axs = plt.subplots(2, 2, figsize=(8, 8))\n",
    "from sklearn import metrics\n",
    "confusion_matrix_1 = metrics.confusion_matrix(y_test, rf_pred)\n",
    "confusion_matrix_2 = metrics.confusion_matrix(y_test, lr_pred)\n",
    "confusion_matrix_3 = metrics.confusion_matrix(y_test, xgb_pred)\n",
    "confusion_matrix_4 = metrics.confusion_matrix(y_test, sclf_pred)\n",
    "\n",
    "cm_display1 = metrics.ConfusionMatrixDisplay(confusion_matrix = confusion_matrix_1, display_labels = [0, 1])\n",
    "cm_display2 = metrics.ConfusionMatrixDisplay(confusion_matrix = confusion_matrix_2, display_labels = [0, 1])\n",
    "\n",
    "cm_display3 = metrics.ConfusionMatrixDisplay(confusion_matrix = confusion_matrix_3, display_labels = [0, 1])\n",
    "\n",
    "cm_display4 = metrics.ConfusionMatrixDisplay(confusion_matrix = confusion_matrix_4, display_labels = [0, 1])\n",
    "\n",
    "fig, axs = plt.subplots(2, 2, figsize=(10, 10))\n",
    "axs[0, 0].set_title('Random Forest')\n",
    "cm_display1.plot(ax=axs[0, 0], colorbar =False)\n",
    "axs[0, 1].set_title('Logistic Regression')\n",
    "cm_display2.plot(ax=axs[0, 1], colorbar =False)\n",
    "axs[1, 0].set_title('XGBoost')\n",
    "cm_display3.plot(ax=axs[1, 0], colorbar =False)\n",
    "axs[1, 1].set_title('Stacked Classifier')\n",
    "cm_display4.plot(ax=axs[1, 1], colorbar =False)\n",
    "\n",
    "fig.suptitle('Confusion Matrices')\n",
    "\n",
    "# Adjust the spacing between subplots and show the plot\n",
    "plt.tight_layout()\n",
    "plt.show()"
   ]
  },
  {
   "cell_type": "markdown",
   "id": "63408f08",
   "metadata": {},
   "source": [
    "### ROC-AUC "
   ]
  },
  {
   "cell_type": "code",
   "execution_count": 36,
   "id": "7e683528",
   "metadata": {},
   "outputs": [
    {
     "data": {
      "text/plain": [
       "<Figure size 720x720 with 0 Axes>"
      ]
     },
     "execution_count": 36,
     "metadata": {},
     "output_type": "execute_result"
    },
    {
     "name": "stderr",
     "output_type": "stream",
     "text": [
      "C:\\Users\\Lahiri\\anaconda3\\lib\\site-packages\\seaborn\\_decorators.py:36: FutureWarning: Pass the following variables as keyword args: x, y. From version 0.12, the only valid positional argument will be `data`, and passing other arguments without an explicit keyword will result in an error or misinterpretation.\n",
      "  warnings.warn(\n"
     ]
    },
    {
     "data": {
      "text/plain": [
       "<AxesSubplot:>"
      ]
     },
     "execution_count": 36,
     "metadata": {},
     "output_type": "execute_result"
    },
    {
     "name": "stderr",
     "output_type": "stream",
     "text": [
      "C:\\Users\\Lahiri\\anaconda3\\lib\\site-packages\\seaborn\\_decorators.py:36: FutureWarning: Pass the following variables as keyword args: x, y. From version 0.12, the only valid positional argument will be `data`, and passing other arguments without an explicit keyword will result in an error or misinterpretation.\n",
      "  warnings.warn(\n"
     ]
    },
    {
     "data": {
      "text/plain": [
       "<AxesSubplot:>"
      ]
     },
     "execution_count": 36,
     "metadata": {},
     "output_type": "execute_result"
    },
    {
     "name": "stderr",
     "output_type": "stream",
     "text": [
      "C:\\Users\\Lahiri\\anaconda3\\lib\\site-packages\\seaborn\\_decorators.py:36: FutureWarning: Pass the following variables as keyword args: x, y. From version 0.12, the only valid positional argument will be `data`, and passing other arguments without an explicit keyword will result in an error or misinterpretation.\n",
      "  warnings.warn(\n"
     ]
    },
    {
     "data": {
      "text/plain": [
       "<AxesSubplot:>"
      ]
     },
     "execution_count": 36,
     "metadata": {},
     "output_type": "execute_result"
    },
    {
     "name": "stderr",
     "output_type": "stream",
     "text": [
      "C:\\Users\\Lahiri\\anaconda3\\lib\\site-packages\\seaborn\\_decorators.py:36: FutureWarning: Pass the following variables as keyword args: x, y. From version 0.12, the only valid positional argument will be `data`, and passing other arguments without an explicit keyword will result in an error or misinterpretation.\n",
      "  warnings.warn(\n"
     ]
    },
    {
     "data": {
      "text/plain": [
       "<AxesSubplot:>"
      ]
     },
     "execution_count": 36,
     "metadata": {},
     "output_type": "execute_result"
    },
    {
     "data": {
      "text/plain": [
       "[<matplotlib.lines.Line2D at 0x2be272f56a0>]"
      ]
     },
     "execution_count": 36,
     "metadata": {},
     "output_type": "execute_result"
    },
    {
     "data": {
      "text/plain": [
       "Text(0.5, 1.0, 'Receiver Operating Characteristic (ROC) Curve')"
      ]
     },
     "execution_count": 36,
     "metadata": {},
     "output_type": "execute_result"
    },
    {
     "data": {
      "text/plain": [
       "Text(0.5, 0, 'False Positive Rate')"
      ]
     },
     "execution_count": 36,
     "metadata": {},
     "output_type": "execute_result"
    },
    {
     "data": {
      "text/plain": [
       "Text(0, 0.5, 'True Positive Rate')"
      ]
     },
     "execution_count": 36,
     "metadata": {},
     "output_type": "execute_result"
    },
    {
     "data": {
      "text/plain": [
       "<matplotlib.legend.Legend at 0x2be272a7160>"
      ]
     },
     "execution_count": 36,
     "metadata": {},
     "output_type": "execute_result"
    },
    {
     "data": {
      "text/plain": [
       "Text(0.5, 1.0, 'Receiver Operating Characteristic (ROC) Curve')"
      ]
     },
     "execution_count": 36,
     "metadata": {},
     "output_type": "execute_result"
    },
    {
     "data": {
      "text/plain": [
       "Text(0.5, 0, 'False Positive Rate')"
      ]
     },
     "execution_count": 36,
     "metadata": {},
     "output_type": "execute_result"
    },
    {
     "data": {
      "text/plain": [
       "Text(0, 0.5, 'True Positive Rate')"
      ]
     },
     "execution_count": 36,
     "metadata": {},
     "output_type": "execute_result"
    },
    {
     "data": {
      "text/plain": [
       "<matplotlib.legend.Legend at 0x2be2731aa30>"
      ]
     },
     "execution_count": 36,
     "metadata": {},
     "output_type": "execute_result"
    },
    {
     "data": {
      "image/png": "[encoded data removed]",
      "text/plain": [
       "<Figure size 720x720 with 1 Axes>"
      ]
     },
     "metadata": {
      "needs_background": "light"
     },
     "output_type": "display_data"
    }
   ],
   "source": [
    "fpr1, tpr1, thresholds1 = roc_curve(y_test, rf_pred)\n",
    "roc_auc1 = roc_auc_score(y_test, rf_pred)\n",
    "\n",
    "\n",
    "fpr2, tpr2, thresholds2 = roc_curve(y_test, lr_pred)\n",
    "roc_auc2 = roc_auc_score(y_test, lr_pred)\n",
    "\n",
    "\n",
    "fpr3, tpr3, thresholds3 = roc_curve(y_test, xgb_pred)\n",
    "roc_auc3 = roc_auc_score(y_test, xgb_pred)\n",
    "\n",
    "fpr4, tpr4, thresholds4 = roc_curve(y_test, sclf_pred)\n",
    "roc_auc4 = roc_auc_score(y_test, sclf_pred)\n",
    "\n",
    "# Create ROC curve plot using seaborn\n",
    "plt.figure(figsize=(10, 10))\n",
    "sns.set_style('whitegrid')\n",
    "sns.lineplot(fpr1, tpr1, label=f'Random Forest (AUC = {roc_auc1:.2f})')\n",
    "sns.lineplot(fpr2, tpr2, label=f'Logistic Regression (AUC = {roc_auc2:.2f})')\n",
    "sns.lineplot(fpr3, tpr3, label=f'XGboost (AUC = {roc_auc3:.2f})')\n",
    "sns.lineplot(fpr4, tpr4, label=f'Stacked Classifier (AUC = {roc_auc4:.2f})')\n",
    "plt.plot([0, 1], [0, 1], linestyle='--', color='grey')\n",
    "\n",
    "\n",
    "# Add labels and legend to the plot\n",
    "plt.title('Receiver Operating Characteristic (ROC) Curve')\n",
    "plt.xlabel('False Positive Rate')\n",
    "plt.ylabel('True Positive Rate')\n",
    "plt.legend()\n",
    "\n",
    "# Add labels and legend to the plot\n",
    "plt.title('Receiver Operating Characteristic (ROC) Curve', fontsize = 18)\n",
    "plt.xlabel('False Positive Rate', fontsize = 14)\n",
    "plt.ylabel('True Positive Rate', fontsize = 14)\n",
    "plt.legend(fontsize = 13)\n",
    "\n",
    "\n",
    "# Show the plot\n",
    "plt.show()"
   ]
  },
  {
   "cell_type": "markdown",
   "id": "4eb725b3",
   "metadata": {},
   "source": [
    "### Understanding Errors in our two best performing models: Random forest and stacked classifier  "
   ]
  },
  {
   "cell_type": "code",
   "execution_count": 37,
   "id": "bccf3f49",
   "metadata": {
    "scrolled": true
   },
   "outputs": [],
   "source": [
    "#We now create separate dataframes with our prediction results to understand how our errors are distributed \n",
    "rf_df = pd.DataFrame({'begin': X_test_checker['LIVARAG_1'], 'true_val':y_test,'rf_pred':rf_pred})\n",
    "\n",
    "sclf_df = pd.DataFrame({'begin': X_test_checker['LIVARAG_1'], 'true_val':y_test,'sclf_pred':sclf_pred})\n",
    "                        "
   ]
  },
  {
   "cell_type": "code",
   "execution_count": 38,
   "id": "cd16330e",
   "metadata": {
    "scrolled": true
   },
   "outputs": [
    {
     "name": "stdout",
     "output_type": "stream",
     "text": [
      "Random Forest accuracy when person is not homeless at admission but homeless at discharge : 0.498\n",
      "Random Forest accuracy when person is not homeless at admission and not homeless at discharge : 0.730\n",
      "Random Forest accuracy when person is  homeless at admission and homeless at discharge : 0.696\n",
      "Random Forest accuracy when person is homeless at admission and not homeless at discharge : 0.408\n"
     ]
    }
   ],
   "source": [
    "helper = rf_df[(rf_df.begin == 0)&(rf_df.true_val == 1)]\n",
    "val_nh_h = helper[helper.rf_pred == 1].shape[0]/helper.shape[0]\n",
    "print('Random Forest accuracy when person is not homeless at admission but homeless at discharge : %.3f' %val_nh_h)\n",
    "\n",
    "helper = rf_df[(rf_df.begin == 0)&(rf_df.true_val == 0)]\n",
    "val_nh = helper[helper.rf_pred == 0].shape[0]/helper.shape[0]\n",
    "print('Random Forest accuracy when person is not homeless at admission and not homeless at discharge : %.3f' %val_nh)\n",
    "\n",
    "helper = rf_df[(rf_df.begin == 1)&(rf_df.true_val == 1)]\n",
    "val_h = helper[helper.rf_pred == 1].shape[0]/helper.shape[0]\n",
    "print('Random Forest accuracy when person is  homeless at admission and homeless at discharge : %.3f' %val_h)\n",
    "\n",
    "\n",
    "helper = rf_df[(rf_df.begin == 1)&(rf_df.true_val == 0)]\n",
    "vale_h_nh = helper[helper.rf_pred == 0].shape[0]/helper.shape[0]\n",
    "print('Random Forest accuracy when person is homeless at admission and not homeless at discharge : %.3f' %vale_h_nh)"
   ]
  },
  {
   "cell_type": "code",
   "execution_count": 39,
   "id": "a97ceeee",
   "metadata": {},
   "outputs": [
    {
     "name": "stdout",
     "output_type": "stream",
     "text": [
      "Stacked Classifier accuracy when person is not homeless at admission but homeless at discharge : 0.478\n",
      "Stacked Classifier accuracy when person is not homeless at admission and not homeless at discharge : 0.745\n",
      "Stacked Classifier accuracy when person is  homeless at admission and homeless at discharge : 0.673\n",
      "Stacked Classifier accuracy when person is homeless at admission and not homeless at discharge : 0.482\n"
     ]
    }
   ],
   "source": [
    "helper = sclf_df[(sclf_df.begin == 0)&(sclf_df.true_val == 1)]\n",
    "val_nh_h = helper[helper.sclf_pred == 1].shape[0]/helper.shape[0]\n",
    "print('Stacked Classifier accuracy when person is not homeless at admission but homeless at discharge : %.3f' %val_nh_h)\n",
    "\n",
    "helper = sclf_df[(sclf_df.begin == 0)&(sclf_df.true_val == 0)]\n",
    "val_nh = helper[helper.sclf_pred == 0].shape[0]/helper.shape[0]\n",
    "print('Stacked Classifier accuracy when person is not homeless at admission and not homeless at discharge : %.3f' %val_nh)\n",
    "\n",
    "helper = sclf_df[(sclf_df.begin == 1)&(sclf_df.true_val == 1)]\n",
    "val_h = helper[helper.sclf_pred == 1].shape[0]/helper.shape[0]\n",
    "print('Stacked Classifier accuracy when person is  homeless at admission and homeless at discharge : %.3f' %val_h)\n",
    "\n",
    "\n",
    "helper = sclf_df[(sclf_df.begin == 1)&(sclf_df.true_val == 0)]\n",
    "vale_h_nh = helper[helper.sclf_pred == 0].shape[0]/helper.shape[0]\n",
    "print('Stacked Classifier accuracy when person is homeless at admission and not homeless at discharge : %.3f' %vale_h_nh)"
   ]
  },
  {
   "cell_type": "markdown",
   "id": "9610b282",
   "metadata": {},
   "source": [
    "### Feature Importance"
   ]
  },
  {
   "cell_type": "code",
   "execution_count": 40,
   "id": "619c2caa",
   "metadata": {
    "scrolled": false
   },
   "outputs": [
    {
     "data": {
      "text/plain": [
       "<Figure size 648x720 with 0 Axes>"
      ]
     },
     "execution_count": 40,
     "metadata": {},
     "output_type": "execute_result"
    },
    {
     "data": {
      "text/plain": [
       "Text(0.5, 1.0, 'Top 11 Feature Importances')"
      ]
     },
     "execution_count": 40,
     "metadata": {},
     "output_type": "execute_result"
    },
    {
     "data": {
      "text/plain": [
       "Text(0.5, 0, 'Importance Score')"
      ]
     },
     "execution_count": 40,
     "metadata": {},
     "output_type": "execute_result"
    },
    {
     "data": {
      "text/plain": [
       "Text(0, 0.5, 'Feature Name')"
      ]
     },
     "execution_count": 40,
     "metadata": {},
     "output_type": "execute_result"
    },
    {
     "data": {
      "text/plain": [
       "[Text(0, 0, 'Recieved Intensive \\nAmbulatory Treatment'),\n",
       " Text(0, 1, 'Recieved Long Term non-acute \\ncare in residential rehab \\n in hospital'),\n",
       " Text(0, 2, 'Recieved 24 hours per day \\nmedical acute care services'),\n",
       " Text(0, 3, 'Primary incomes sources other \\n than wages/government assistance'),\n",
       " Text(0, 4, 'Currently Divorced'),\n",
       " Text(0, 5, 'Currently Unemployed'),\n",
       " Text(0, 6, 'Older than 45 years at admission'),\n",
       " Text(0, 7, 'DSM Diagnosis: Alcohol Abuse'),\n",
       " Text(0, 8, 'Male'),\n",
       " Text(0, 9, 'Has not attended substance use \\n self-help groups within \\n30 days before admission.'),\n",
       " Text(0, 10, 'Criminal Justice Referral: Probation/Parole')]"
      ]
     },
     "execution_count": 40,
     "metadata": {},
     "output_type": "execute_result"
    },
    {
     "data": {
      "image/png": "[encoded data removed]",
      "text/plain": [
       "<Figure size 648x720 with 1 Axes>"
      ]
     },
     "metadata": {},
     "output_type": "display_data"
    }
   ],
   "source": [
    "import seaborn as sns\n",
    "\n",
    "importances = xgb.feature_importances_\n",
    "\n",
    "# Get the feature names\n",
    "feature_names = X_train.columns\n",
    "sns.set_context(\"paper\")\n",
    "# Sort the feature importances in descending order\n",
    "indices = np.argsort(importances)[::-1]\n",
    "\n",
    "# Plot the top 5 features by name\n",
    "\n",
    "plt.figure(figsize=(9,10))\n",
    "\n",
    "#Since many of the important features are the dummies of a singl variable,\n",
    "#it is more informative to look at top 11 features which are truly different \n",
    "#we hence index this way \n",
    "\n",
    "ax = sns.barplot(x=importances[indices][[1,2,3,4,5,6,8,9,11,12,13]], y=feature_names[indices][[1,2,3,4,5,6,8,9,11,12,13]], palette=\"Blues_d\")\n",
    "plt.title(\"Top 11 Feature Importances\", fontsize = 16)\n",
    "plt.xlabel(\"Importance Score\", fontsize = 13)\n",
    "plt.ylabel(\"Feature Name\", fontsize = 13)\n",
    "new_ytick_labels = [ 'Recieved Intensive \\nAmbulatory Treatment',\n",
    "                    'Recieved Long Term non-acute \\ncare in residential rehab \\n in hospital', \n",
    "                    'Recieved 24 hours per day \\nmedical acute care services',\n",
    "                    'Primary incomes sources other \\n than wages/government assistance',\n",
    "                    'Currently Divorced',\n",
    "                    'Currently Unemployed',\n",
    "                    'Older than 45 years at admission',\n",
    "                    'DSM Diagnosis: Alcohol Abuse',\n",
    "                    'Male',\n",
    "                    'Has not attended substance use \\n self-help groups within \\n30 days before admission.',\n",
    "                    'Criminal Justice Referral: Probation/Parole']\n",
    "ax.set_yticklabels(new_ytick_labels, fontsize = 13)\n",
    "ax.tick_params(axis='x', labelsize=14)\n",
    "plt.tight_layout()"
   ]
  }
 ],
 "metadata": {
  "kernelspec": {
   "display_name": "Python 3 (ipykernel)",
   "language": "python",
   "name": "python3"
  },
  "language_info": {
   "codemirror_mode": {
    "name": "ipython",
    "version": 3
   },
   "file_extension": ".py",
   "mimetype": "text/x-python",
   "name": "python",
   "nbconvert_exporter": "python",
   "pygments_lexer": "ipython3",
   "version": "3.9.12"
  }
 },
 "nbformat": 4,
 "nbformat_minor": 5
}
